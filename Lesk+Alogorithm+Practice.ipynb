{
 "cells": [
  {
   "cell_type": "markdown",
   "metadata": {},
   "source": [
    "### Lesk Algorithm\n",
    "1. Tokenize the senses of the word\n",
    "2. Tokenize the sentence\n",
    "3. Count the no of overlapping sense\n",
    "4. Capture the maximum overlapping sense from the sentence and the sense definition"
   ]
  },
  {
   "cell_type": "code",
   "execution_count": 1,
   "metadata": {},
   "outputs": [],
   "source": [
    "import nltk\n",
    "from nltk.corpus import wordnet\n",
    "from nltk.corpus import stopwords"
   ]
  },
  {
   "cell_type": "code",
   "execution_count": 2,
   "metadata": {},
   "outputs": [
    {
     "name": "stdout",
     "output_type": "stream",
     "text": [
      "[nltk_data] Downloading package stopwords to\n",
      "[nltk_data]     C:\\Users\\LSK\\AppData\\Roaming\\nltk_data...\n",
      "[nltk_data]   Package stopwords is already up-to-date!\n"
     ]
    },
    {
     "data": {
      "text/plain": [
       "True"
      ]
     },
     "execution_count": 2,
     "metadata": {},
     "output_type": "execute_result"
    }
   ],
   "source": [
    "nltk.download('stopwords')"
   ]
  },
  {
   "cell_type": "code",
   "execution_count": 3,
   "metadata": {},
   "outputs": [
    {
     "name": "stdout",
     "output_type": "stream",
     "text": [
      "179\n"
     ]
    }
   ],
   "source": [
    "stop_words = set(stopwords.words('english'))\n",
    "print(len(stop_words))"
   ]
  },
  {
   "cell_type": "code",
   "execution_count": 8,
   "metadata": {},
   "outputs": [],
   "source": [
    "def leskAlgo(sentence,word):\n",
    "    \"\"\"\n",
    "    sentense is any given sentence and word is the ambiguous word for which want to find the best sense from wordnet library\n",
    "    \"\"\"\n",
    "    max_overlap = 0\n",
    "    best_sense = None\n",
    "    \n",
    "    #Split the sentence into tokens\n",
    "    tokenized_text = nltk.word_tokenize(sentence)\n",
    "    #remove the stopwords from the tokenized text\n",
    "    split_sentence_filtered = [word for word in tokenized_text if word not in stop_words]\n",
    "    \n",
    "    #Iterate over all the senses of the given word\n",
    "    for sense in wordnet.synsets(word):\n",
    "        #tokenize the each definition and find commonn words between given sentence and sense defnition        \n",
    "        sense_tokens = set(nltk.word_tokenize(sense.definition()))\n",
    "        common_words = sense_tokens.intersection(split_sentence_filtered)\n",
    "        overlap = len(common_words)\n",
    "        \n",
    "        #Find the sense which has max common words and store that sense in best_sense\n",
    "        if overlap > max_overlap:\n",
    "            max_overlap = overlap\n",
    "            best_sense = sense\n",
    "        \n",
    "    return best_sense\n",
    "    "
   ]
  },
  {
   "cell_type": "code",
   "execution_count": 7,
   "metadata": {},
   "outputs": [
    {
     "name": "stdout",
     "output_type": "stream",
     "text": [
      "Help on function leskAlgo in module __main__:\n",
      "\n",
      "leskAlgo(sentence, word)\n",
      "    sentense is any given sentence and word is the ambiguous word for which want to find the best sens from wordnet library\n",
      "\n"
     ]
    }
   ],
   "source": [
    "help(leskAlgo)"
   ]
  },
  {
   "cell_type": "code",
   "execution_count": 10,
   "metadata": {},
   "outputs": [
    {
     "name": "stdout",
     "output_type": "stream",
     "text": [
      "Synset('bank.v.02') enclose with a bank\n"
     ]
    }
   ],
   "source": [
    "#example\n",
    "sentence = \"The frog is jumping around the bank of the river\"\n",
    "word = 'bank' # the amibguous word\n",
    "sense = leskAlgo(sentence,word)\n",
    "print(sense,sense.definition())"
   ]
  },
  {
   "cell_type": "code",
   "execution_count": 12,
   "metadata": {},
   "outputs": [
    {
     "name": "stdout",
     "output_type": "stream",
     "text": [
      "Synset('bank.n.01') sloping land (especially the slope beside a body of water)\n",
      "Synset('depository_financial_institution.n.01') a financial institution that accepts deposits and channels the money into lending activities\n",
      "Synset('bank.n.03') a long ridge or pile\n",
      "Synset('bank.n.04') an arrangement of similar objects in a row or in tiers\n",
      "Synset('bank.n.05') a supply or stock held in reserve for future use (especially in emergencies)\n",
      "Synset('bank.n.06') the funds held by a gambling house or the dealer in some gambling games\n",
      "Synset('bank.n.07') a slope in the turn of a road or track; the outside is higher than the inside in order to reduce the effects of centrifugal force\n",
      "Synset('savings_bank.n.02') a container (usually with a slot in the top) for keeping money at home\n",
      "Synset('bank.n.09') a building in which the business of banking transacted\n",
      "Synset('bank.n.10') a flight maneuver; aircraft tips laterally about its longitudinal axis (especially in turning)\n",
      "Synset('bank.v.01') tip laterally\n",
      "Synset('bank.v.02') enclose with a bank\n",
      "Synset('bank.v.03') do business with a bank or keep an account at a bank\n",
      "Synset('bank.v.04') act as the banker in a game or in gambling\n",
      "Synset('bank.v.05') be in the banking business\n",
      "Synset('deposit.v.02') put into a bank account\n",
      "Synset('bank.v.07') cover with ashes so to control the rate of burning\n",
      "Synset('trust.v.01') have confidence or faith in\n"
     ]
    }
   ],
   "source": [
    "#Observing the available sense and their definition\n",
    "for sense in wordnet.synsets(word):\n",
    "    print(sense,sense.definition())"
   ]
  },
  {
   "cell_type": "code",
   "execution_count": null,
   "metadata": {},
   "outputs": [],
   "source": []
  }
 ],
 "metadata": {
  "kernelspec": {
   "display_name": "Python 3",
   "language": "python",
   "name": "python3"
  },
  "language_info": {
   "codemirror_mode": {
    "name": "ipython",
    "version": 3
   },
   "file_extension": ".py",
   "mimetype": "text/x-python",
   "name": "python",
   "nbconvert_exporter": "python",
   "pygments_lexer": "ipython3",
   "version": "3.6.4"
  }
 },
 "nbformat": 4,
 "nbformat_minor": 2
}
